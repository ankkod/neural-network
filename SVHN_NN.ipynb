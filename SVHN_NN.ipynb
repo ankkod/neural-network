{
  "nbformat": 4,
  "nbformat_minor": 0,
  "metadata": {
    "colab": {
      "name": "SVHN_NN.ipynb",
      "provenance": [],
      "collapsed_sections": []
    },
    "kernelspec": {
      "name": "python3",
      "display_name": "Python 3"
    }
  },
  "cells": [
    {
      "cell_type": "markdown",
      "metadata": {
        "id": "62T-OO5VU71r"
      },
      "source": [
        "# **Street View Housing Number Digit Recognition**"
      ]
    },
    {
      "cell_type": "code",
      "metadata": {
        "colab": {
          "base_uri": "https://localhost:8080/",
          "height": 36
        },
        "id": "O-NBOZwj0pia",
        "outputId": "18f3f57e-0ed8-4bef-cf05-101095eb1c77"
      },
      "source": [
        "%tensorflow_version 2.x\r\n",
        "import tensorflow\r\n",
        "tensorflow.__version__"
      ],
      "execution_count": 106,
      "outputs": [
        {
          "output_type": "execute_result",
          "data": {
            "application/vnd.google.colaboratory.intrinsic+json": {
              "type": "string"
            },
            "text/plain": [
              "'2.4.0'"
            ]
          },
          "metadata": {
            "tags": []
          },
          "execution_count": 106
        }
      ]
    },
    {
      "cell_type": "code",
      "metadata": {
        "id": "qRuZLk0X1X_s"
      },
      "source": [
        "# Initialize the random number generator\r\n",
        "import random\r\n",
        "random.seed(0)\r\n",
        "\r\n",
        "# Ignore the warnings\r\n",
        "import warnings\r\n",
        "warnings.filterwarnings(\"ignore\")\r\n",
        "import pandas as pd"
      ],
      "execution_count": 107,
      "outputs": []
    },
    {
      "cell_type": "markdown",
      "metadata": {
        "id": "QAmEw_oi1gXb"
      },
      "source": [
        "**Load Dataset**"
      ]
    },
    {
      "cell_type": "code",
      "metadata": {
        "colab": {
          "base_uri": "https://localhost:8080/"
        },
        "id": "djBqHAp91YrK",
        "outputId": "d577ad5a-9b3d-4c2d-cce3-c55b5b4827f7"
      },
      "source": [
        "import h5py\r\n",
        "\r\n",
        "h5f = h5py.File('/content/drive/MyDrive/Colab Notebooks/SVHN_single_grey1.h5', 'r')\r\n",
        "\r\n",
        "h5f.keys()"
      ],
      "execution_count": 108,
      "outputs": [
        {
          "output_type": "execute_result",
          "data": {
            "text/plain": [
              "<KeysViewHDF5 ['X_test', 'X_train', 'X_val', 'y_test', 'y_train', 'y_val']>"
            ]
          },
          "metadata": {
            "tags": []
          },
          "execution_count": 108
        }
      ]
    },
    {
      "cell_type": "code",
      "metadata": {
        "id": "lcB2mT8e2R9k"
      },
      "source": [
        "#Loading the training, test and validation set\r\n",
        "X_train = h5f['X_train'][:]\r\n",
        "y_train = h5f['y_train'][:]\r\n",
        "X_test = h5f['X_test'][:]\r\n",
        "y_test = h5f['y_test'][:]\r\n"
      ],
      "execution_count": 109,
      "outputs": []
    },
    {
      "cell_type": "markdown",
      "metadata": {
        "id": "3CVd7KjPADB-"
      },
      "source": [
        "Let's visualize some numbers using matplotlib"
      ]
    },
    {
      "cell_type": "code",
      "metadata": {
        "colab": {
          "base_uri": "https://localhost:8080/",
          "height": 303
        },
        "id": "rRTczWBs8S8p",
        "outputId": "8e43f7fe-c7ec-415b-a027-6ea371dafb6b"
      },
      "source": [
        "import matplotlib.pyplot as plt\r\n",
        "%matplotlib inline\r\n",
        "print(\"Label: {}\".format(y_train[2007]))\r\n",
        "plt.imshow(X_train[2007], cmap='gray')"
      ],
      "execution_count": 110,
      "outputs": [
        {
          "output_type": "stream",
          "text": [
            "Label: 4\n"
          ],
          "name": "stdout"
        },
        {
          "output_type": "execute_result",
          "data": {
            "text/plain": [
              "<matplotlib.image.AxesImage at 0x7f7111cf9f60>"
            ]
          },
          "metadata": {
            "tags": []
          },
          "execution_count": 110
        },
        {
          "output_type": "display_data",
          "data": {
            "image/png": "[encoded data removed]",
            "text/plain": [
              "<Figure size 432x288 with 1 Axes>"
            ]
          },
          "metadata": {
            "tags": [],
            "needs_background": "light"
          }
        }
      ]
    },
    {
      "cell_type": "markdown",
      "metadata": {
        "id": "gAk_cuBWA5yW"
      },
      "source": [
        "**Print shape of the data**"
      ]
    },
    {
      "cell_type": "code",
      "metadata": {
        "colab": {
          "base_uri": "https://localhost:8080/"
        },
        "id": "6MZLGbjFAG8K",
        "outputId": "e25f8b12-a96a-4fce-df1f-8254ec82e098"
      },
      "source": [
        "print(X_train.shape)\r\n",
        "print(y_train.shape)\r\n",
        "print(X_test.shape)\r\n",
        "print(y_test.shape)"
      ],
      "execution_count": 79,
      "outputs": [
        {
          "output_type": "stream",
          "text": [
            "(42000, 32, 32)\n",
            "(42000,)\n",
            "(18000, 32, 32)\n",
            "(18000,)\n"
          ],
          "name": "stdout"
        }
      ]
    },
    {
      "cell_type": "markdown",
      "metadata": {
        "id": "1BCB7MBnBpQI"
      },
      "source": [
        "**Reshape features**"
      ]
    },
    {
      "cell_type": "code",
      "metadata": {
        "colab": {
          "base_uri": "https://localhost:8080/"
        },
        "id": "_jmChOoJBEnT",
        "outputId": "789bca93-f8a8-45d4-d3c1-0f7637adf87d"
      },
      "source": [
        "X_train = X_train.reshape(42000, 1024)\r\n",
        "print(X_train.shape)\r\n",
        "X_test = X_test.reshape(18000, 1024)\r\n",
        "print(X_test.shape)"
      ],
      "execution_count": 80,
      "outputs": [
        {
          "output_type": "stream",
          "text": [
            "(42000, 1024)\n",
            "(18000, 1024)\n"
          ],
          "name": "stdout"
        }
      ]
    },
    {
      "cell_type": "markdown",
      "metadata": {
        "id": "t6WmnwrxDXv9"
      },
      "source": [
        "**Normalize features**\r\n",
        "\r\n",
        "\r\n",
        "*   Normalize features from 0-255 to 0-1\r\n",
        "\r\n",
        "\r\n"
      ]
    },
    {
      "cell_type": "code",
      "metadata": {
        "colab": {
          "base_uri": "https://localhost:8080/"
        },
        "id": "Aqbm9sAeCfsy",
        "outputId": "0e8cf69c-218c-4ac5-d925-902e2f387c06"
      },
      "source": [
        "X_train = X_train.astype('float32')\r\n",
        "X_test = X_test.astype('float32')\r\n",
        "print(X_train.max())\r\n",
        "print(X_train.min())\r\n",
        "X_train = X_train / 255\r\n",
        "X_test = X_test / 255\r\n",
        "\r\n",
        "print(X_train.max())\r\n",
        "print(X_train.min())"
      ],
      "execution_count": 81,
      "outputs": [
        {
          "output_type": "stream",
          "text": [
            "254.9745\n",
            "0.0\n",
            "0.9999\n",
            "0.0\n"
          ],
          "name": "stdout"
        }
      ]
    },
    {
      "cell_type": "code",
      "metadata": {
        "id": "BiSkekdH7qeK"
      },
      "source": [
        ""
      ],
      "execution_count": 81,
      "outputs": []
    },
    {
      "cell_type": "markdown",
      "metadata": {
        "id": "cqVBiBwUDf_F"
      },
      "source": [
        "**One-hot encode the class vector**\r\n",
        "\r\n",
        "*   convert class vectors (integers) to binary class matrix\r\n",
        "*   convert y_train and y_test\r\n",
        "*   number of classes: 10\r\n"
      ]
    },
    {
      "cell_type": "code",
      "metadata": {
        "colab": {
          "base_uri": "https://localhost:8080/"
        },
        "id": "ti1WW_0hCs7c",
        "outputId": "06da63d3-4b77-4455-fa49-d20893866417"
      },
      "source": [
        "print(y_train[10])\r\n",
        "y_train = tensorflow.keras.utils.to_categorical(y_train, num_classes=10)\r\n",
        "y_test = tensorflow.keras.utils.to_categorical(y_test, num_classes=10)\r\n",
        "print(y_train[10])"
      ],
      "execution_count": 82,
      "outputs": [
        {
          "output_type": "stream",
          "text": [
            "1\n",
            "[0. 1. 0. 0. 0. 0. 0. 0. 0. 0.]\n"
          ],
          "name": "stdout"
        }
      ]
    },
    {
      "cell_type": "markdown",
      "metadata": {
        "id": "N6pq0udpFPYK"
      },
      "source": [
        "**Let's see some other images and their labels**"
      ]
    },
    {
      "cell_type": "code",
      "metadata": {
        "colab": {
          "base_uri": "https://localhost:8080/",
          "height": 263
        },
        "id": "kBcTNN_eD8N7",
        "outputId": "fc5af732-2a72-4d5d-f3fd-b742b097292b"
      },
      "source": [
        "import numpy as np\r\n",
        "\r\n",
        "# visualizing the first 10 images in the dataset and their labels\r\n",
        "%matplotlib inline\r\n",
        "import matplotlib.pyplot as plt\r\n",
        "plt.figure(figsize=(10, 1))\r\n",
        "for i in range(10):\r\n",
        "    plt.subplot(1, 10, i+1)\r\n",
        "    plt.imshow(X_train[i].reshape(32, 32), cmap=\"gray\")\r\n",
        "    plt.axis('off')\r\n",
        "    print('label for each of the below image: %s' % (np.argmax(y_train[0:10][i])))\r\n",
        "plt.show()"
      ],
      "execution_count": 83,
      "outputs": [
        {
          "output_type": "stream",
          "text": [
            "label for each of the below image: 2\n",
            "label for each of the below image: 6\n",
            "label for each of the below image: 7\n",
            "label for each of the below image: 4\n",
            "label for each of the below image: 4\n",
            "label for each of the below image: 0\n",
            "label for each of the below image: 3\n",
            "label for each of the below image: 0\n",
            "label for each of the below image: 7\n",
            "label for each of the below image: 3\n"
          ],
          "name": "stdout"
        },
        {
          "output_type": "display_data",
          "data": {
            "image/png": "[encoded data removed]",
            "text/plain": [
              "<Figure size 720x72 with 10 Axes>"
            ]
          },
          "metadata": {
            "tags": [],
            "needs_background": "light"
          }
        }
      ]
    },
    {
      "cell_type": "code",
      "metadata": {
        "id": "WnJzcvkjXRsr"
      },
      "source": [
        "from tensorflow.keras.models import Sequential\r\n",
        "from tensorflow.keras.layers import Activation, Dense\r\n",
        "from tensorflow.keras import regularizers, optimizers\r\n",
        "from tensorflow.keras.layers import BatchNormalization, Dropout"
      ],
      "execution_count": 84,
      "outputs": []
    },
    {
      "cell_type": "markdown",
      "metadata": {
        "id": "DBymDovoyNcO"
      },
      "source": [
        "**Basic Model**"
      ]
    },
    {
      "cell_type": "code",
      "metadata": {
        "id": "XYwLd2SPX0GG"
      },
      "source": [
        "def svhn_model():\r\n",
        "  output_nodes = 10\r\n",
        "  model = Sequential()\r\n",
        "  model.add(Dense(512, input_shape=(1024,), activation='relu', kernel_initializer='he_normal'))\r\n",
        "\r\n",
        "  model.add(Dense(256, activation='relu', kernel_initializer='he_normal'))\r\n",
        "  model.add(Dense(128, activation='relu', kernel_initializer='he_normal'))\r\n",
        "  model.add(Dense(64, activation='relu', kernel_initializer='he_normal'))\r\n",
        "  model.add(Dense(32, activation='relu', kernel_initializer='he_normal'))\r\n",
        "\r\n",
        "  model.add(Dense(output_nodes, activation='softmax'))\r\n",
        "  adam = optimizers.Adam(lr = 0.0001)\r\n",
        "  # Compile model\r\n",
        "  model.compile(loss='categorical_crossentropy', optimizer=adam, metrics=['accuracy'])\r\n",
        "\r\n",
        "  # Fit the model\r\n",
        "  return model"
      ],
      "execution_count": 85,
      "outputs": []
    },
    {
      "cell_type": "code",
      "metadata": {
        "colab": {
          "base_uri": "https://localhost:8080/"
        },
        "id": "7nla8kgRaMSf",
        "outputId": "c4a77bdf-1b64-4443-c6e7-334fd2ceed09"
      },
      "source": [
        "model = svhn_model()\r\n",
        "model.fit(X_train, y_train, epochs=50, batch_size=200, verbose= 1)"
      ],
      "execution_count": 86,
      "outputs": [
        {
          "output_type": "stream",
          "text": [
            "Epoch 1/50\n",
            "210/210 [==============================] - 4s 19ms/step - loss: 2.2775 - accuracy: 0.1502\n",
            "Epoch 2/50\n",
            "210/210 [==============================] - 4s 18ms/step - loss: 1.8998 - accuracy: 0.3851\n",
            "Epoch 3/50\n",
            "210/210 [==============================] - 4s 18ms/step - loss: 1.4876 - accuracy: 0.5465\n",
            "Epoch 4/50\n",
            "210/210 [==============================] - 4s 18ms/step - loss: 1.2927 - accuracy: 0.6133\n",
            "Epoch 5/50\n",
            "210/210 [==============================] - 4s 18ms/step - loss: 1.1887 - accuracy: 0.6425\n",
            "Epoch 6/50\n",
            "210/210 [==============================] - 4s 19ms/step - loss: 1.1007 - accuracy: 0.6720\n",
            "Epoch 7/50\n",
            "210/210 [==============================] - 4s 19ms/step - loss: 1.0545 - accuracy: 0.6843\n",
            "Epoch 8/50\n",
            "210/210 [==============================] - 4s 19ms/step - loss: 1.0155 - accuracy: 0.6935\n",
            "Epoch 9/50\n",
            "210/210 [==============================] - 5s 23ms/step - loss: 0.9797 - accuracy: 0.7039\n",
            "Epoch 10/50\n",
            "210/210 [==============================] - 4s 21ms/step - loss: 0.9436 - accuracy: 0.7179\n",
            "Epoch 11/50\n",
            "210/210 [==============================] - 4s 18ms/step - loss: 0.9146 - accuracy: 0.7233\n",
            "Epoch 12/50\n",
            "210/210 [==============================] - 4s 19ms/step - loss: 0.8744 - accuracy: 0.7373\n",
            "Epoch 13/50\n",
            "210/210 [==============================] - 4s 18ms/step - loss: 0.8655 - accuracy: 0.7377\n",
            "Epoch 14/50\n",
            "210/210 [==============================] - 4s 18ms/step - loss: 0.8300 - accuracy: 0.7495\n",
            "Epoch 15/50\n",
            "210/210 [==============================] - 4s 18ms/step - loss: 0.7947 - accuracy: 0.7611\n",
            "Epoch 16/50\n",
            "210/210 [==============================] - 4s 19ms/step - loss: 0.7903 - accuracy: 0.7607\n",
            "Epoch 17/50\n",
            "210/210 [==============================] - 4s 19ms/step - loss: 0.7726 - accuracy: 0.7666\n",
            "Epoch 18/50\n",
            "210/210 [==============================] - 4s 19ms/step - loss: 0.7548 - accuracy: 0.7728\n",
            "Epoch 19/50\n",
            "210/210 [==============================] - 4s 19ms/step - loss: 0.7487 - accuracy: 0.7744\n",
            "Epoch 20/50\n",
            "210/210 [==============================] - 4s 18ms/step - loss: 0.7195 - accuracy: 0.7830\n",
            "Epoch 21/50\n",
            "210/210 [==============================] - 4s 18ms/step - loss: 0.7012 - accuracy: 0.7888\n",
            "Epoch 22/50\n",
            "210/210 [==============================] - 4s 18ms/step - loss: 0.6953 - accuracy: 0.7902\n",
            "Epoch 23/50\n",
            "210/210 [==============================] - 4s 18ms/step - loss: 0.6879 - accuracy: 0.7918\n",
            "Epoch 24/50\n",
            "210/210 [==============================] - 4s 18ms/step - loss: 0.6619 - accuracy: 0.7997\n",
            "Epoch 25/50\n",
            "210/210 [==============================] - 4s 18ms/step - loss: 0.6624 - accuracy: 0.8032\n",
            "Epoch 26/50\n",
            "210/210 [==============================] - 4s 18ms/step - loss: 0.6405 - accuracy: 0.8066\n",
            "Epoch 27/50\n",
            "210/210 [==============================] - 4s 19ms/step - loss: 0.6292 - accuracy: 0.8106\n",
            "Epoch 28/50\n",
            "210/210 [==============================] - 4s 18ms/step - loss: 0.6183 - accuracy: 0.8144\n",
            "Epoch 29/50\n",
            "210/210 [==============================] - 4s 19ms/step - loss: 0.6157 - accuracy: 0.8143\n",
            "Epoch 30/50\n",
            "210/210 [==============================] - 4s 19ms/step - loss: 0.5819 - accuracy: 0.8261\n",
            "Epoch 31/50\n",
            "210/210 [==============================] - 4s 18ms/step - loss: 0.5916 - accuracy: 0.8233\n",
            "Epoch 32/50\n",
            "210/210 [==============================] - 4s 18ms/step - loss: 0.5819 - accuracy: 0.8225\n",
            "Epoch 33/50\n",
            "210/210 [==============================] - 4s 18ms/step - loss: 0.5841 - accuracy: 0.8224\n",
            "Epoch 34/50\n",
            "210/210 [==============================] - 4s 19ms/step - loss: 0.5686 - accuracy: 0.8257\n",
            "Epoch 35/50\n",
            "210/210 [==============================] - 4s 19ms/step - loss: 0.5509 - accuracy: 0.8336\n",
            "Epoch 36/50\n",
            "210/210 [==============================] - 4s 18ms/step - loss: 0.5474 - accuracy: 0.8353\n",
            "Epoch 37/50\n",
            "210/210 [==============================] - 4s 19ms/step - loss: 0.5349 - accuracy: 0.8375\n",
            "Epoch 38/50\n",
            "210/210 [==============================] - 4s 18ms/step - loss: 0.5427 - accuracy: 0.8379\n",
            "Epoch 39/50\n",
            "210/210 [==============================] - 4s 19ms/step - loss: 0.5250 - accuracy: 0.8400\n",
            "Epoch 40/50\n",
            "210/210 [==============================] - 4s 19ms/step - loss: 0.5309 - accuracy: 0.8395\n",
            "Epoch 41/50\n",
            "210/210 [==============================] - 4s 18ms/step - loss: 0.5008 - accuracy: 0.8483\n",
            "Epoch 42/50\n",
            "210/210 [==============================] - 4s 18ms/step - loss: 0.4901 - accuracy: 0.8536\n",
            "Epoch 43/50\n",
            "210/210 [==============================] - 4s 18ms/step - loss: 0.4967 - accuracy: 0.8506\n",
            "Epoch 44/50\n",
            "210/210 [==============================] - 4s 18ms/step - loss: 0.4935 - accuracy: 0.8510\n",
            "Epoch 45/50\n",
            "210/210 [==============================] - 4s 18ms/step - loss: 0.4831 - accuracy: 0.8546\n",
            "Epoch 46/50\n",
            "210/210 [==============================] - 4s 18ms/step - loss: 0.4870 - accuracy: 0.8507\n",
            "Epoch 47/50\n",
            "210/210 [==============================] - 4s 19ms/step - loss: 0.4733 - accuracy: 0.8580\n",
            "Epoch 48/50\n",
            "210/210 [==============================] - 4s 19ms/step - loss: 0.4641 - accuracy: 0.8611\n",
            "Epoch 49/50\n",
            "210/210 [==============================] - 4s 18ms/step - loss: 0.4477 - accuracy: 0.8645\n",
            "Epoch 50/50\n",
            "210/210 [==============================] - 4s 19ms/step - loss: 0.4528 - accuracy: 0.8629\n"
          ],
          "name": "stdout"
        },
        {
          "output_type": "execute_result",
          "data": {
            "text/plain": [
              "<tensorflow.python.keras.callbacks.History at 0x7f710a08c208>"
            ]
          },
          "metadata": {
            "tags": []
          },
          "execution_count": 86
        }
      ]
    },
    {
      "cell_type": "code",
      "metadata": {
        "colab": {
          "base_uri": "https://localhost:8080/"
        },
        "id": "RUqAs_JF7rl1",
        "outputId": "d8b29861-c0c1-4743-b1e0-0c49252fac07"
      },
      "source": [
        "score = model.evaluate(X_train, y_train, verbose=0)\r\n",
        "print(\"Accuaracy on training data:\", score[1])"
      ],
      "execution_count": 87,
      "outputs": [
        {
          "output_type": "stream",
          "text": [
            "Accuaracy on training data: 0.8639761805534363\n"
          ],
          "name": "stdout"
        }
      ]
    },
    {
      "cell_type": "code",
      "metadata": {
        "colab": {
          "base_uri": "https://localhost:8080/"
        },
        "id": "1WPFarcg7mqF",
        "outputId": "941d4990-143b-40b2-e1a1-2db2fb94030c"
      },
      "source": [
        "results = model.evaluate(X_test, y_test)"
      ],
      "execution_count": 88,
      "outputs": [
        {
          "output_type": "stream",
          "text": [
            "563/563 [==============================] - 2s 3ms/step - loss: 0.6562 - accuracy: 0.8148\n"
          ],
          "name": "stdout"
        }
      ]
    },
    {
      "cell_type": "code",
      "metadata": {
        "colab": {
          "base_uri": "https://localhost:8080/"
        },
        "id": "Ff0Wd2f_4qLf",
        "outputId": "9af8922b-682e-4ad4-8f34-a7155ca4ec1b"
      },
      "source": [
        "print(\"Test Accuracy: \", results[1])"
      ],
      "execution_count": 89,
      "outputs": [
        {
          "output_type": "stream",
          "text": [
            "Test Accuracy:  0.8147777915000916\n"
          ],
          "name": "stdout"
        }
      ]
    },
    {
      "cell_type": "code",
      "metadata": {
        "colab": {
          "base_uri": "https://localhost:8080/"
        },
        "id": "qThIotl8VL-V",
        "outputId": "b122152c-b2db-467c-ca5f-88d3e908570f"
      },
      "source": [
        "model.summary()"
      ],
      "execution_count": 90,
      "outputs": [
        {
          "output_type": "stream",
          "text": [
            "Model: \"sequential_6\"\n",
            "_________________________________________________________________\n",
            "Layer (type)                 Output Shape              Param #   \n",
            "=================================================================\n",
            "dense_36 (Dense)             (None, 512)               524800    \n",
            "_________________________________________________________________\n",
            "dense_37 (Dense)             (None, 256)               131328    \n",
            "_________________________________________________________________\n",
            "dense_38 (Dense)             (None, 128)               32896     \n",
            "_________________________________________________________________\n",
            "dense_39 (Dense)             (None, 64)                8256      \n",
            "_________________________________________________________________\n",
            "dense_40 (Dense)             (None, 32)                2080      \n",
            "_________________________________________________________________\n",
            "dense_41 (Dense)             (None, 10)                330       \n",
            "=================================================================\n",
            "Total params: 699,690\n",
            "Trainable params: 699,690\n",
            "Non-trainable params: 0\n",
            "_________________________________________________________________\n"
          ],
          "name": "stdout"
        }
      ]
    },
    {
      "cell_type": "markdown",
      "metadata": {
        "id": "uYfQcQigzi2q"
      },
      "source": [
        "Basic model gives accuracy of 92.50% on training data and 83.56% on test data, which clearly shows overfitting on training data."
      ]
    },
    {
      "cell_type": "code",
      "metadata": {
        "colab": {
          "base_uri": "https://localhost:8080/",
          "height": 81
        },
        "id": "CyGoD4tW_mnv",
        "outputId": "b0503b50-6c42-4f65-8dba-1070f98eefb9"
      },
      "source": [
        "tempDf = pd.DataFrame({'Model':['NN Model'], 'Training Score': score[1],'Test Score':results[1]})\r\n",
        "resultsDf = tempDf[['Model' ,'Training Score','Test Score']]\r\n",
        "resultsDf"
      ],
      "execution_count": 91,
      "outputs": [
        {
          "output_type": "execute_result",
          "data": {
            "text/html": [
              "<div>\n",
              "<style scoped>\n",
              "    .dataframe tbody tr th:only-of-type {\n",
              "        vertical-align: middle;\n",
              "    }\n",
              "\n",
              "    .dataframe tbody tr th {\n",
              "        vertical-align: top;\n",
              "    }\n",
              "\n",
              "    .dataframe thead th {\n",
              "        text-align: right;\n",
              "    }\n",
              "</style>\n",
              "<table border=\"1\" class=\"dataframe\">\n",
              "  <thead>\n",
              "    <tr style=\"text-align: right;\">\n",
              "      <th></th>\n",
              "      <th>Model</th>\n",
              "      <th>Training Score</th>\n",
              "      <th>Test Score</th>\n",
              "    </tr>\n",
              "  </thead>\n",
              "  <tbody>\n",
              "    <tr>\n",
              "      <th>0</th>\n",
              "      <td>NN Model</td>\n",
              "      <td>0.863976</td>\n",
              "      <td>0.814778</td>\n",
              "    </tr>\n",
              "  </tbody>\n",
              "</table>\n",
              "</div>"
            ],
            "text/plain": [
              "      Model  Training Score  Test Score\n",
              "0  NN Model        0.863976    0.814778"
            ]
          },
          "metadata": {
            "tags": []
          },
          "execution_count": 91
        }
      ]
    },
    {
      "cell_type": "markdown",
      "metadata": {
        "id": "NDsnB6ZnP2iJ"
      },
      "source": [
        "**Model With Batch Normalization**"
      ]
    },
    {
      "cell_type": "code",
      "metadata": {
        "id": "gyBLFqH5E_-s"
      },
      "source": [
        "from tensorflow.keras.models import Sequential\r\n",
        "from tensorflow.keras.layers import Dense\r\n",
        "from tensorflow.keras import regularizers, optimizers\r\n",
        "\r\n",
        "def svhn_model_with_normalization():\r\n",
        "\r\n",
        "    ## hyperparameters\r\n",
        "    output_nodes = 10\r\n",
        "\r\n",
        "    model = Sequential()\r\n",
        "    model.add(Dense(512, input_shape=(1024,), activation='relu', kernel_initializer='he_normal'))\r\n",
        "    model.add(BatchNormalization())\r\n",
        "    model.add(Dense(256, activation='relu', kernel_initializer='he_normal'))\r\n",
        "    model.add(BatchNormalization())\r\n",
        "    model.add(Dense(128, activation='relu', kernel_initializer='he_normal'))\r\n",
        "    model.add(BatchNormalization())\r\n",
        "    model.add(Dense(64, activation='relu', kernel_initializer='he_normal'))\r\n",
        "    model.add(BatchNormalization())\r\n",
        "    model.add(Dense(32, activation='relu', kernel_initializer='he_normal'))\r\n",
        "    model.add(Dense(output_nodes, activation='softmax'))\r\n",
        "    adam = optimizers.Adam(lr = 0.0001)\r\n",
        "    # Compile model\r\n",
        "    model.compile(loss='categorical_crossentropy', optimizer=adam, metrics=['accuracy'])\r\n",
        "    \r\n",
        "    return model"
      ],
      "execution_count": 92,
      "outputs": []
    },
    {
      "cell_type": "code",
      "metadata": {
        "colab": {
          "base_uri": "https://localhost:8080/"
        },
        "id": "_YBdkx3D8s3d",
        "outputId": "ff0146c1-02a4-4109-9693-0b21a9e6b3a9"
      },
      "source": [
        "model1 = svhn_model_with_normalization()\r\n",
        "# Fit the model\r\n",
        "model1.fit(X_train, y_train, epochs=50, batch_size=200, verbose= 1)"
      ],
      "execution_count": 93,
      "outputs": [
        {
          "output_type": "stream",
          "text": [
            "Epoch 1/50\n",
            "210/210 [==============================] - 6s 22ms/step - loss: 2.4503 - accuracy: 0.1634\n",
            "Epoch 2/50\n",
            "210/210 [==============================] - 5s 22ms/step - loss: 1.7240 - accuracy: 0.4284\n",
            "Epoch 3/50\n",
            "210/210 [==============================] - 5s 22ms/step - loss: 1.3170 - accuracy: 0.6020\n",
            "Epoch 4/50\n",
            "210/210 [==============================] - 5s 21ms/step - loss: 1.0965 - accuracy: 0.6728\n",
            "Epoch 5/50\n",
            "210/210 [==============================] - 4s 21ms/step - loss: 0.9562 - accuracy: 0.7144\n",
            "Epoch 6/50\n",
            "210/210 [==============================] - 4s 21ms/step - loss: 0.8602 - accuracy: 0.7410\n",
            "Epoch 7/50\n",
            "210/210 [==============================] - 4s 21ms/step - loss: 0.7878 - accuracy: 0.7592\n",
            "Epoch 8/50\n",
            "210/210 [==============================] - 4s 21ms/step - loss: 0.7490 - accuracy: 0.7695\n",
            "Epoch 9/50\n",
            "210/210 [==============================] - 4s 21ms/step - loss: 0.6914 - accuracy: 0.7863\n",
            "Epoch 10/50\n",
            "210/210 [==============================] - 5s 22ms/step - loss: 0.6566 - accuracy: 0.7947\n",
            "Epoch 11/50\n",
            "210/210 [==============================] - 4s 21ms/step - loss: 0.6280 - accuracy: 0.8052\n",
            "Epoch 12/50\n",
            "210/210 [==============================] - 4s 21ms/step - loss: 0.5927 - accuracy: 0.8152\n",
            "Epoch 13/50\n",
            "210/210 [==============================] - 4s 21ms/step - loss: 0.5562 - accuracy: 0.8270\n",
            "Epoch 14/50\n",
            "210/210 [==============================] - 4s 21ms/step - loss: 0.5324 - accuracy: 0.8359\n",
            "Epoch 15/50\n",
            "210/210 [==============================] - 4s 21ms/step - loss: 0.5054 - accuracy: 0.8441\n",
            "Epoch 16/50\n",
            "210/210 [==============================] - 5s 21ms/step - loss: 0.4890 - accuracy: 0.8487\n",
            "Epoch 17/50\n",
            "210/210 [==============================] - 5s 22ms/step - loss: 0.4694 - accuracy: 0.8528\n",
            "Epoch 18/50\n",
            "210/210 [==============================] - 4s 21ms/step - loss: 0.4499 - accuracy: 0.8580\n",
            "Epoch 19/50\n",
            "210/210 [==============================] - 4s 21ms/step - loss: 0.4348 - accuracy: 0.8668\n",
            "Epoch 20/50\n",
            "210/210 [==============================] - 5s 21ms/step - loss: 0.4377 - accuracy: 0.8638\n",
            "Epoch 21/50\n",
            "210/210 [==============================] - 5s 23ms/step - loss: 0.4013 - accuracy: 0.8736\n",
            "Epoch 22/50\n",
            "210/210 [==============================] - 5s 22ms/step - loss: 0.3956 - accuracy: 0.8774\n",
            "Epoch 23/50\n",
            "210/210 [==============================] - 5s 22ms/step - loss: 0.3809 - accuracy: 0.8814\n",
            "Epoch 24/50\n",
            "210/210 [==============================] - 5s 22ms/step - loss: 0.3764 - accuracy: 0.8808\n",
            "Epoch 25/50\n",
            "210/210 [==============================] - 5s 22ms/step - loss: 0.3658 - accuracy: 0.8859\n",
            "Epoch 26/50\n",
            "210/210 [==============================] - 4s 21ms/step - loss: 0.3602 - accuracy: 0.8856\n",
            "Epoch 27/50\n",
            "210/210 [==============================] - 4s 21ms/step - loss: 0.3337 - accuracy: 0.8963\n",
            "Epoch 28/50\n",
            "210/210 [==============================] - 5s 22ms/step - loss: 0.3296 - accuracy: 0.8993\n",
            "Epoch 29/50\n",
            "210/210 [==============================] - 5s 22ms/step - loss: 0.3208 - accuracy: 0.8999\n",
            "Epoch 30/50\n",
            "210/210 [==============================] - 5s 22ms/step - loss: 0.3143 - accuracy: 0.9020\n",
            "Epoch 31/50\n",
            "210/210 [==============================] - 5s 23ms/step - loss: 0.2984 - accuracy: 0.9055\n",
            "Epoch 32/50\n",
            "210/210 [==============================] - 5s 24ms/step - loss: 0.2976 - accuracy: 0.9070\n",
            "Epoch 33/50\n",
            "210/210 [==============================] - 4s 21ms/step - loss: 0.2832 - accuracy: 0.9130\n",
            "Epoch 34/50\n",
            "210/210 [==============================] - 5s 22ms/step - loss: 0.2823 - accuracy: 0.9124\n",
            "Epoch 35/50\n",
            "210/210 [==============================] - 4s 21ms/step - loss: 0.2779 - accuracy: 0.9134\n",
            "Epoch 36/50\n",
            "210/210 [==============================] - 5s 22ms/step - loss: 0.2616 - accuracy: 0.9182\n",
            "Epoch 37/50\n",
            "210/210 [==============================] - 4s 21ms/step - loss: 0.2667 - accuracy: 0.9181\n",
            "Epoch 38/50\n",
            "210/210 [==============================] - 5s 22ms/step - loss: 0.2462 - accuracy: 0.9249\n",
            "Epoch 39/50\n",
            "210/210 [==============================] - 4s 21ms/step - loss: 0.2408 - accuracy: 0.9245\n",
            "Epoch 40/50\n",
            "210/210 [==============================] - 5s 22ms/step - loss: 0.2473 - accuracy: 0.9206\n",
            "Epoch 41/50\n",
            "210/210 [==============================] - 5s 22ms/step - loss: 0.2397 - accuracy: 0.9243\n",
            "Epoch 42/50\n",
            "210/210 [==============================] - 5s 22ms/step - loss: 0.2268 - accuracy: 0.9288\n",
            "Epoch 43/50\n",
            "210/210 [==============================] - 5s 22ms/step - loss: 0.2232 - accuracy: 0.9299\n",
            "Epoch 44/50\n",
            "210/210 [==============================] - 5s 22ms/step - loss: 0.2154 - accuracy: 0.9301\n",
            "Epoch 45/50\n",
            "210/210 [==============================] - 5s 22ms/step - loss: 0.2208 - accuracy: 0.9307\n",
            "Epoch 46/50\n",
            "210/210 [==============================] - 5s 22ms/step - loss: 0.2136 - accuracy: 0.9329\n",
            "Epoch 47/50\n",
            "210/210 [==============================] - 5s 22ms/step - loss: 0.2200 - accuracy: 0.9283\n",
            "Epoch 48/50\n",
            "210/210 [==============================] - 5s 21ms/step - loss: 0.2110 - accuracy: 0.9336\n",
            "Epoch 49/50\n",
            "210/210 [==============================] - 5s 22ms/step - loss: 0.2006 - accuracy: 0.9363\n",
            "Epoch 50/50\n",
            "210/210 [==============================] - 5s 22ms/step - loss: 0.1918 - accuracy: 0.9400\n"
          ],
          "name": "stdout"
        },
        {
          "output_type": "execute_result",
          "data": {
            "text/plain": [
              "<tensorflow.python.keras.callbacks.History at 0x7f7107737dd8>"
            ]
          },
          "metadata": {
            "tags": []
          },
          "execution_count": 93
        }
      ]
    },
    {
      "cell_type": "code",
      "metadata": {
        "colab": {
          "base_uri": "https://localhost:8080/"
        },
        "id": "HMr8BNRC9WfV",
        "outputId": "f2cc94b1-ec05-4ca6-d577-161d0a3c2bfc"
      },
      "source": [
        "training_score = model1.evaluate(X_train, y_train, verbose=0)\r\n",
        "print(\"Training Score: \", training_score[1])"
      ],
      "execution_count": 94,
      "outputs": [
        {
          "output_type": "stream",
          "text": [
            "Training Score:  0.8861666917800903\n"
          ],
          "name": "stdout"
        }
      ]
    },
    {
      "cell_type": "code",
      "metadata": {
        "colab": {
          "base_uri": "https://localhost:8080/"
        },
        "id": "nxsqlsD39evt",
        "outputId": "8985bc58-2551-40c0-bfb3-a47bdbc88fe0"
      },
      "source": [
        "test_score = model1.evaluate(X_test, y_test, verbose=0)\r\n",
        "print(\"Test Score: \", test_score[1])"
      ],
      "execution_count": 95,
      "outputs": [
        {
          "output_type": "stream",
          "text": [
            "Test Score:  0.7891111373901367\n"
          ],
          "name": "stdout"
        }
      ]
    },
    {
      "cell_type": "code",
      "metadata": {
        "colab": {
          "base_uri": "https://localhost:8080/"
        },
        "id": "mqqhX7VEVQMK",
        "outputId": "e19cb9ab-8556-482b-bf66-2f4809edd6e4"
      },
      "source": [
        "model1.summary()"
      ],
      "execution_count": 96,
      "outputs": [
        {
          "output_type": "stream",
          "text": [
            "Model: \"sequential_7\"\n",
            "_________________________________________________________________\n",
            "Layer (type)                 Output Shape              Param #   \n",
            "=================================================================\n",
            "dense_42 (Dense)             (None, 512)               524800    \n",
            "_________________________________________________________________\n",
            "batch_normalization_12 (Batc (None, 512)               2048      \n",
            "_________________________________________________________________\n",
            "dense_43 (Dense)             (None, 256)               131328    \n",
            "_________________________________________________________________\n",
            "batch_normalization_13 (Batc (None, 256)               1024      \n",
            "_________________________________________________________________\n",
            "dense_44 (Dense)             (None, 128)               32896     \n",
            "_________________________________________________________________\n",
            "batch_normalization_14 (Batc (None, 128)               512       \n",
            "_________________________________________________________________\n",
            "dense_45 (Dense)             (None, 64)                8256      \n",
            "_________________________________________________________________\n",
            "batch_normalization_15 (Batc (None, 64)                256       \n",
            "_________________________________________________________________\n",
            "dense_46 (Dense)             (None, 32)                2080      \n",
            "_________________________________________________________________\n",
            "dense_47 (Dense)             (None, 10)                330       \n",
            "=================================================================\n",
            "Total params: 703,530\n",
            "Trainable params: 701,610\n",
            "Non-trainable params: 1,920\n",
            "_________________________________________________________________\n"
          ],
          "name": "stdout"
        }
      ]
    },
    {
      "cell_type": "code",
      "metadata": {
        "colab": {
          "base_uri": "https://localhost:8080/",
          "height": 112
        },
        "id": "CriQca3pCX89",
        "outputId": "3eb8f737-34d0-4d88-c733-d8a2691d57fd"
      },
      "source": [
        "tempDf = pd.DataFrame({'Model':['NN with Batch Normalization'], 'Training Score': training_score[1],'Test Score':test_score[1]})\r\n",
        "resultsDf = resultsDf.append(tempDf,ignore_index=True)\r\n",
        "resultsDf"
      ],
      "execution_count": 97,
      "outputs": [
        {
          "output_type": "execute_result",
          "data": {
            "text/html": [
              "<div>\n",
              "<style scoped>\n",
              "    .dataframe tbody tr th:only-of-type {\n",
              "        vertical-align: middle;\n",
              "    }\n",
              "\n",
              "    .dataframe tbody tr th {\n",
              "        vertical-align: top;\n",
              "    }\n",
              "\n",
              "    .dataframe thead th {\n",
              "        text-align: right;\n",
              "    }\n",
              "</style>\n",
              "<table border=\"1\" class=\"dataframe\">\n",
              "  <thead>\n",
              "    <tr style=\"text-align: right;\">\n",
              "      <th></th>\n",
              "      <th>Model</th>\n",
              "      <th>Training Score</th>\n",
              "      <th>Test Score</th>\n",
              "    </tr>\n",
              "  </thead>\n",
              "  <tbody>\n",
              "    <tr>\n",
              "      <th>0</th>\n",
              "      <td>NN Model</td>\n",
              "      <td>0.863976</td>\n",
              "      <td>0.814778</td>\n",
              "    </tr>\n",
              "    <tr>\n",
              "      <th>1</th>\n",
              "      <td>NN with Batch Normalization</td>\n",
              "      <td>0.886167</td>\n",
              "      <td>0.789111</td>\n",
              "    </tr>\n",
              "  </tbody>\n",
              "</table>\n",
              "</div>"
            ],
            "text/plain": [
              "                         Model  Training Score  Test Score\n",
              "0                     NN Model        0.863976    0.814778\n",
              "1  NN with Batch Normalization        0.886167    0.789111"
            ]
          },
          "metadata": {
            "tags": []
          },
          "execution_count": 97
        }
      ]
    },
    {
      "cell_type": "markdown",
      "metadata": {
        "id": "eIXCZn4qHu4y"
      },
      "source": [
        "**Model with Dropout Layer**"
      ]
    },
    {
      "cell_type": "code",
      "metadata": {
        "id": "W7lKPmS3HoAD"
      },
      "source": [
        "def svhn_model_with_dropout():\r\n",
        "\r\n",
        "    ## hyperparameters\r\n",
        "    output_nodes = 10\r\n",
        "\r\n",
        "    model = Sequential()\r\n",
        "    model.add(Dense(512, input_shape=(1024,), activation='relu', kernel_initializer='he_normal'))\r\n",
        "    model.add(BatchNormalization())\r\n",
        "    model.add(Dense(256, activation='relu', kernel_initializer='he_normal'))\r\n",
        "    model.add(Dropout(0.5))\r\n",
        "    model.add(BatchNormalization())\r\n",
        "    model.add(Dense(128, activation='relu', kernel_initializer='he_normal'))\r\n",
        "    model.add(Dropout(0.5))\r\n",
        "    model.add(BatchNormalization())\r\n",
        "    model.add(Dense(64, activation='relu', kernel_initializer='he_normal'))\r\n",
        "    model.add(Dropout(0.5))\r\n",
        "    model.add(BatchNormalization())\r\n",
        "    model.add(Dense(32, activation='relu', kernel_initializer='he_normal'))\r\n",
        "    model.add(Dropout(0.5))\r\n",
        "    model.add(Dense(output_nodes, activation='softmax'))\r\n",
        "    adam = optimizers.Adam(lr = 0.001)\r\n",
        "    # Compile model\r\n",
        "    model.compile(loss='categorical_crossentropy', optimizer=adam, metrics=['accuracy'])\r\n",
        "    \r\n",
        "    return model"
      ],
      "execution_count": 98,
      "outputs": []
    },
    {
      "cell_type": "code",
      "metadata": {
        "colab": {
          "base_uri": "https://localhost:8080/"
        },
        "id": "oK2_PFQ7IWMW",
        "outputId": "35a47e44-c2bf-479d-de9a-61ba9dfa56a0"
      },
      "source": [
        "model2 = svhn_model_with_dropout()\r\n",
        "history = model2.fit(X_train, y_train, epochs = 50, batch_size=200, verbose = 1)"
      ],
      "execution_count": 99,
      "outputs": [
        {
          "output_type": "stream",
          "text": [
            "Epoch 1/50\n",
            "210/210 [==============================] - 6s 22ms/step - loss: 2.9111 - accuracy: 0.1002\n",
            "Epoch 2/50\n",
            "210/210 [==============================] - 5s 22ms/step - loss: 2.3701 - accuracy: 0.1086\n",
            "Epoch 3/50\n",
            "210/210 [==============================] - 5s 23ms/step - loss: 2.2872 - accuracy: 0.1308\n",
            "Epoch 4/50\n",
            "210/210 [==============================] - 5s 22ms/step - loss: 2.1884 - accuracy: 0.1680\n",
            "Epoch 5/50\n",
            "210/210 [==============================] - 5s 23ms/step - loss: 2.0479 - accuracy: 0.2005\n",
            "Epoch 6/50\n",
            "210/210 [==============================] - 5s 22ms/step - loss: 2.0083 - accuracy: 0.2158\n",
            "Epoch 7/50\n",
            "210/210 [==============================] - 5s 23ms/step - loss: 1.9541 - accuracy: 0.2330\n",
            "Epoch 8/50\n",
            "210/210 [==============================] - 5s 22ms/step - loss: 1.8997 - accuracy: 0.2594\n",
            "Epoch 9/50\n",
            "210/210 [==============================] - 5s 23ms/step - loss: 1.8429 - accuracy: 0.2874\n",
            "Epoch 10/50\n",
            "210/210 [==============================] - 5s 22ms/step - loss: 1.7551 - accuracy: 0.3213\n",
            "Epoch 11/50\n",
            "210/210 [==============================] - 5s 22ms/step - loss: 1.6973 - accuracy: 0.3593\n",
            "Epoch 12/50\n",
            "210/210 [==============================] - 5s 23ms/step - loss: 1.6339 - accuracy: 0.3845\n",
            "Epoch 13/50\n",
            "210/210 [==============================] - 5s 22ms/step - loss: 1.5675 - accuracy: 0.4321\n",
            "Epoch 14/50\n",
            "210/210 [==============================] - 5s 22ms/step - loss: 1.5000 - accuracy: 0.4587\n",
            "Epoch 15/50\n",
            "210/210 [==============================] - 5s 23ms/step - loss: 1.4538 - accuracy: 0.4866\n",
            "Epoch 16/50\n",
            "210/210 [==============================] - 5s 22ms/step - loss: 1.4318 - accuracy: 0.4975\n",
            "Epoch 17/50\n",
            "210/210 [==============================] - 5s 23ms/step - loss: 1.3991 - accuracy: 0.5126\n",
            "Epoch 18/50\n",
            "210/210 [==============================] - 5s 22ms/step - loss: 1.3641 - accuracy: 0.5205\n",
            "Epoch 19/50\n",
            "210/210 [==============================] - 5s 23ms/step - loss: 1.3202 - accuracy: 0.5395\n",
            "Epoch 20/50\n",
            "210/210 [==============================] - 5s 22ms/step - loss: 1.3147 - accuracy: 0.5420\n",
            "Epoch 21/50\n",
            "210/210 [==============================] - 5s 23ms/step - loss: 1.2971 - accuracy: 0.5586\n",
            "Epoch 22/50\n",
            "210/210 [==============================] - 5s 22ms/step - loss: 1.2956 - accuracy: 0.5555\n",
            "Epoch 23/50\n",
            "210/210 [==============================] - 5s 23ms/step - loss: 1.2699 - accuracy: 0.5650\n",
            "Epoch 24/50\n",
            "210/210 [==============================] - 5s 22ms/step - loss: 1.2413 - accuracy: 0.5799\n",
            "Epoch 25/50\n",
            "210/210 [==============================] - 5s 22ms/step - loss: 1.2396 - accuracy: 0.5812\n",
            "Epoch 26/50\n",
            "210/210 [==============================] - 5s 22ms/step - loss: 1.2139 - accuracy: 0.5944\n",
            "Epoch 27/50\n",
            "210/210 [==============================] - 5s 22ms/step - loss: 1.2046 - accuracy: 0.5943\n",
            "Epoch 28/50\n",
            "210/210 [==============================] - 5s 22ms/step - loss: 1.1812 - accuracy: 0.6077\n",
            "Epoch 29/50\n",
            "210/210 [==============================] - 5s 22ms/step - loss: 1.1741 - accuracy: 0.6061\n",
            "Epoch 30/50\n",
            "210/210 [==============================] - 5s 22ms/step - loss: 1.1773 - accuracy: 0.6092\n",
            "Epoch 31/50\n",
            "210/210 [==============================] - 5s 22ms/step - loss: 1.1491 - accuracy: 0.6268\n",
            "Epoch 32/50\n",
            "210/210 [==============================] - 5s 23ms/step - loss: 1.1344 - accuracy: 0.6265\n",
            "Epoch 33/50\n",
            "210/210 [==============================] - 5s 23ms/step - loss: 1.1276 - accuracy: 0.6360\n",
            "Epoch 34/50\n",
            "210/210 [==============================] - 5s 23ms/step - loss: 1.1053 - accuracy: 0.6435\n",
            "Epoch 35/50\n",
            "210/210 [==============================] - 5s 23ms/step - loss: 1.1156 - accuracy: 0.6523\n",
            "Epoch 36/50\n",
            "210/210 [==============================] - 5s 23ms/step - loss: 1.1160 - accuracy: 0.6537\n",
            "Epoch 37/50\n",
            "210/210 [==============================] - 5s 23ms/step - loss: 1.0825 - accuracy: 0.6634\n",
            "Epoch 38/50\n",
            "210/210 [==============================] - 5s 23ms/step - loss: 1.0853 - accuracy: 0.6636\n",
            "Epoch 39/50\n",
            "210/210 [==============================] - 5s 23ms/step - loss: 1.0764 - accuracy: 0.6640\n",
            "Epoch 40/50\n",
            "210/210 [==============================] - 5s 24ms/step - loss: 1.0725 - accuracy: 0.6676\n",
            "Epoch 41/50\n",
            "210/210 [==============================] - 5s 23ms/step - loss: 1.0604 - accuracy: 0.6743\n",
            "Epoch 42/50\n",
            "210/210 [==============================] - 6s 26ms/step - loss: 1.0588 - accuracy: 0.6776\n",
            "Epoch 43/50\n",
            "210/210 [==============================] - 5s 23ms/step - loss: 1.0604 - accuracy: 0.6790\n",
            "Epoch 44/50\n",
            "210/210 [==============================] - 5s 23ms/step - loss: 1.0388 - accuracy: 0.6843\n",
            "Epoch 45/50\n",
            "210/210 [==============================] - 5s 23ms/step - loss: 1.0440 - accuracy: 0.6847\n",
            "Epoch 46/50\n",
            "210/210 [==============================] - 5s 24ms/step - loss: 1.0369 - accuracy: 0.6865\n",
            "Epoch 47/50\n",
            "210/210 [==============================] - 5s 23ms/step - loss: 1.0121 - accuracy: 0.6942\n",
            "Epoch 48/50\n",
            "210/210 [==============================] - 5s 23ms/step - loss: 1.0260 - accuracy: 0.6961\n",
            "Epoch 49/50\n",
            "210/210 [==============================] - 5s 22ms/step - loss: 1.0254 - accuracy: 0.6960\n",
            "Epoch 50/50\n",
            "210/210 [==============================] - 5s 23ms/step - loss: 1.0100 - accuracy: 0.7005\n"
          ],
          "name": "stdout"
        }
      ]
    },
    {
      "cell_type": "code",
      "metadata": {
        "colab": {
          "base_uri": "https://localhost:8080/"
        },
        "id": "MCeRUOGkIctb",
        "outputId": "7aad9c9c-13c8-489d-ee7d-94839440a8a3"
      },
      "source": [
        "training_results = model2.evaluate(X_train, y_train)\r\n",
        "test_results = model2.evaluate(X_test, y_test)"
      ],
      "execution_count": 100,
      "outputs": [
        {
          "output_type": "stream",
          "text": [
            "1313/1313 [==============================] - 4s 3ms/step - loss: 0.8689 - accuracy: 0.7318\n",
            "563/563 [==============================] - 2s 3ms/step - loss: 0.9258 - accuracy: 0.7217\n"
          ],
          "name": "stdout"
        }
      ]
    },
    {
      "cell_type": "code",
      "metadata": {
        "colab": {
          "base_uri": "https://localhost:8080/"
        },
        "id": "tcc6kY5TJ5WS",
        "outputId": "a056976d-59d2-424e-8bea-5a7fca6c0331"
      },
      "source": [
        "print('Training accuracy: ', training_results[1])\r\n",
        "print('Test accuracy: ', test_results[1])"
      ],
      "execution_count": 101,
      "outputs": [
        {
          "output_type": "stream",
          "text": [
            "Training accuracy:  0.7317619323730469\n",
            "Test accuracy:  0.7217222452163696\n"
          ],
          "name": "stdout"
        }
      ]
    },
    {
      "cell_type": "markdown",
      "metadata": {
        "id": "D8SF6NQIQZ4S"
      },
      "source": [
        ""
      ]
    },
    {
      "cell_type": "code",
      "metadata": {
        "colab": {
          "base_uri": "https://localhost:8080/"
        },
        "id": "ZHZkFeiEQC9l",
        "outputId": "e7eeda70-742e-4b05-aba9-ea8052ee494a"
      },
      "source": [
        "model2.summary()"
      ],
      "execution_count": 102,
      "outputs": [
        {
          "output_type": "stream",
          "text": [
            "Model: \"sequential_8\"\n",
            "_________________________________________________________________\n",
            "Layer (type)                 Output Shape              Param #   \n",
            "=================================================================\n",
            "dense_48 (Dense)             (None, 512)               524800    \n",
            "_________________________________________________________________\n",
            "batch_normalization_16 (Batc (None, 512)               2048      \n",
            "_________________________________________________________________\n",
            "dense_49 (Dense)             (None, 256)               131328    \n",
            "_________________________________________________________________\n",
            "dropout_7 (Dropout)          (None, 256)               0         \n",
            "_________________________________________________________________\n",
            "batch_normalization_17 (Batc (None, 256)               1024      \n",
            "_________________________________________________________________\n",
            "dense_50 (Dense)             (None, 128)               32896     \n",
            "_________________________________________________________________\n",
            "dropout_8 (Dropout)          (None, 128)               0         \n",
            "_________________________________________________________________\n",
            "batch_normalization_18 (Batc (None, 128)               512       \n",
            "_________________________________________________________________\n",
            "dense_51 (Dense)             (None, 64)                8256      \n",
            "_________________________________________________________________\n",
            "dropout_9 (Dropout)          (None, 64)                0         \n",
            "_________________________________________________________________\n",
            "batch_normalization_19 (Batc (None, 64)                256       \n",
            "_________________________________________________________________\n",
            "dense_52 (Dense)             (None, 32)                2080      \n",
            "_________________________________________________________________\n",
            "dropout_10 (Dropout)         (None, 32)                0         \n",
            "_________________________________________________________________\n",
            "dense_53 (Dense)             (None, 10)                330       \n",
            "=================================================================\n",
            "Total params: 703,530\n",
            "Trainable params: 701,610\n",
            "Non-trainable params: 1,920\n",
            "_________________________________________________________________\n"
          ],
          "name": "stdout"
        }
      ]
    },
    {
      "cell_type": "code",
      "metadata": {
        "colab": {
          "base_uri": "https://localhost:8080/",
          "height": 144
        },
        "id": "ULEaKhNRCqJs",
        "outputId": "9108f83e-657f-4d1c-e237-d31137619260"
      },
      "source": [
        "tempDf = pd.DataFrame({'Model':['NN with Dropout layer'], 'Training Score': training_results[1],'Test Score':test_results[1]})\r\n",
        "resultsDf = resultsDf.append(tempDf,ignore_index=True)\r\n",
        "resultsDf"
      ],
      "execution_count": 103,
      "outputs": [
        {
          "output_type": "execute_result",
          "data": {
            "text/html": [
              "<div>\n",
              "<style scoped>\n",
              "    .dataframe tbody tr th:only-of-type {\n",
              "        vertical-align: middle;\n",
              "    }\n",
              "\n",
              "    .dataframe tbody tr th {\n",
              "        vertical-align: top;\n",
              "    }\n",
              "\n",
              "    .dataframe thead th {\n",
              "        text-align: right;\n",
              "    }\n",
              "</style>\n",
              "<table border=\"1\" class=\"dataframe\">\n",
              "  <thead>\n",
              "    <tr style=\"text-align: right;\">\n",
              "      <th></th>\n",
              "      <th>Model</th>\n",
              "      <th>Training Score</th>\n",
              "      <th>Test Score</th>\n",
              "    </tr>\n",
              "  </thead>\n",
              "  <tbody>\n",
              "    <tr>\n",
              "      <th>0</th>\n",
              "      <td>NN Model</td>\n",
              "      <td>0.863976</td>\n",
              "      <td>0.814778</td>\n",
              "    </tr>\n",
              "    <tr>\n",
              "      <th>1</th>\n",
              "      <td>NN with Batch Normalization</td>\n",
              "      <td>0.886167</td>\n",
              "      <td>0.789111</td>\n",
              "    </tr>\n",
              "    <tr>\n",
              "      <th>2</th>\n",
              "      <td>NN with Dropout layer</td>\n",
              "      <td>0.731762</td>\n",
              "      <td>0.721722</td>\n",
              "    </tr>\n",
              "  </tbody>\n",
              "</table>\n",
              "</div>"
            ],
            "text/plain": [
              "                         Model  Training Score  Test Score\n",
              "0                     NN Model        0.863976    0.814778\n",
              "1  NN with Batch Normalization        0.886167    0.789111\n",
              "2        NN with Dropout layer        0.731762    0.721722"
            ]
          },
          "metadata": {
            "tags": []
          },
          "execution_count": 103
        }
      ]
    },
    {
      "cell_type": "markdown",
      "metadata": {
        "id": "xMrMz0Nt-QBv"
      },
      "source": [
        "**Conclusion:**\r\n",
        "\r\n",
        "\r\n",
        "*   Basic NN model is giving a good test accuracy compared to models using Batch Normalization and Dropout layer. We can see overfitting issue in the first to model and there is significant difference between training and test accuracy. NN model with dropout layer has solved the overfitting issue majorly due to introduction of dropout layer but the accuracy is still low. \r\n",
        "*   On thing to note, introuducing a CNN layer will definitely improve the model performance and might also resolve overfitting problem.\r\n",
        "\r\n",
        "\r\n"
      ]
    },
    {
      "cell_type": "code",
      "metadata": {
        "id": "NADPp0vm-R4d"
      },
      "source": [
        ""
      ],
      "execution_count": 103,
      "outputs": []
    }
  ]
}